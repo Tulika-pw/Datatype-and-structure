{
  "nbformat": 4,
  "nbformat_minor": 0,
  "metadata": {
    "colab": {
      "provenance": []
    },
    "kernelspec": {
      "name": "python3",
      "display_name": "Python 3"
    },
    "language_info": {
      "name": "python"
    }
  },
  "cells": [
    {
      "cell_type": "markdown",
      "source": [
        "**Data Types and Structures Questions-Answer**\n",
        "1.\tWhat are data structures, and why are they important?\n",
        "-\tData structure is a way of organizing and storing data so that it can be accessed and manipulated efficiently.\n",
        "2.\tExplain the difference between mutable and immutable data types with examples.\n",
        "-\tMutable data types can be modified or edited but immutable data types cannot be edited. For example, List data type is mutable that means we can access the list elements by indexing and also can change or modify those elements. But in case of Tuple data type, we cannot change or modify the elements. Therefore, tuple is immutable data type.\n",
        "3.\tWhat are the main differences between lists and tuples in Python?\n",
        "-\tList data type is mutable that means we can change or modify those elements. But in case of Tuple data type, we cannot change or modify the elements. Therefore, tuple elements are immutable data type.\n",
        "4.\tDescribe how dictionaries store data.\n",
        "-\tDictionaries store data as key- value pair.\n",
        "e.g., dic_C = {'name': 'Alice', 'age': 30}\n",
        "here, ‘name’ is key and the value of that key is ‘Alice’.\n",
        "\n",
        "5.\tWhy might you use a set instead of a list in Python?\n",
        "-\tWhen, we need to get only unique elements irrespective of their orders without any repeat, we use a set instead of a list, which has ordered and mutable elements including repeats. Set elements can’t be accessed by indexing as it is unordered but it is mutable (exception: frozen set) for adding or removing. If above mentioned features of set are enough to store data, we can use a set instead of a list.  \n",
        "6.\tWhat is a string in Python, and how is it different from a list?\n",
        "-\tString is a sequence of characters which are written with in single or double quote. Strings are immutable but it can be modified and assigned as new string.\n",
        "-\tLists are mutable that means list elements can be changed.\n",
        "7.\tHow do tuples ensure data integrity in Python?\n",
        "-\t¬Tuples in Python ensure data integrity because tuples data are immutable. Once data are stored s tuples, it can not be modified or changed.\n",
        "8.\tWhat is a hash table, and how does it relate to dictionaries in Python?\n",
        "-\t A hash table is a data structure that allows us to store a collection of key-value pairs.\n",
        "In Python, dictionaries data structure is also store data in key-value pairs. In that way, dictionaries are related to hash table.\n",
        "9.\tCan lists contain different data types in Python?\n",
        "-\tYes, list contains different data types like integer, float, Boolean, string.\n",
        "10.\tExplain why strings are immutable in Python.\n",
        "-\tString elements cannot be changed in python once elements are stored as string, that is why strings are immutable. One string element can be modified but the modification has to be defined by another string. The previous string data is unchanged.\n",
        "\n",
        "11.\tWhat advantages do dictionaries offer over lists for certain tasks?\n",
        "-\tDictionary has the advantage to access the date with key as it stores data in key- value pair. Therefore, data is more easily accessible in dictionaries. List can be used when it is important to maintain the order of the elements.\n",
        "12.\tDescribe a scenario where using a tuple would be preferable over a list.\n",
        "-\tWe use tuple for storing data which can not be changed further but list is mutable, so list data can be changed. When we store data which is purposely not changed further like employee id, Aadhar card number, Passport number etc., we use tuples. Therefore, data security is maintained.   \n",
        "13.\tHow do sets handle duplicate values in Python?\n",
        "-\tSet shows only unique elements. So, duplicate values can not be visible in set.\n",
        "14.\tHow does the “in” keyword work differently for lists and dictionaries?\n",
        "-\t“in” operator finds only key in dictionaries, not the value but in lists “in” operator is searching a particular element which is either present or absent in that list.\n",
        "15.\tCan you modify the elements of a tuple? Explain why or why not.\n",
        "-\t¬The elements in a tuple cannot be modified as it is immutable.\n",
        "16.\tWhat is a nested dictionary, and give an example of its use case?\n",
        "-\tA nested dictionary is a collection of dictionaries within a dictionary.\n",
        "-\tWhen multiple dictionaries are required to store for a particular data series, it is stored as nested dictionary.\n",
        "17.\tDescribe the time complexity of accessing elements in a dictionary.\n",
        "-\tIn Dictionary data, only value can be accessed by respective key. We cannot access key with the help of value.   \n",
        "18.\tIn what situations are lists preferred over dictionaries?\n",
        "-\tWhen we need to store ordered collections of elements which are accessible by indexing and can be modified easily, we prefer lists over dictionaries, as in dictionary, data store in key:value pair and we access only the value by using key.  \n",
        "19.\tWhy are dictionaries considered unordered, and how does that affect data retrieval?\n",
        "-\tThe dictionaries are considered as unordered because the elements are in key:value pairs and cannot be accessible by indexing. It is only accessible by key.\n",
        "-\tAs indexing is not possible in dictionaries, we have to know the particular key name for accessing the value.\n",
        "20.\tExplain the difference between a list and a dictionary in terms of data retrieval.\n",
        "-\tA list is an ordered collection of items, whereas a dictionary is an unordered data collection in a key: value pair. Elements from the list can be accessed using the index, while the elements of the dictionary can be accessed using keys only.\n"
      ],
      "metadata": {
        "id": "ffZMH0AV7-4_"
      }
    },
    {
      "cell_type": "code",
      "source": [
        "# 1. Write a code to create a string with your name and print it.\n",
        "Name = \"Tulika\"\n",
        "print(Name)"
      ],
      "metadata": {
        "colab": {
          "base_uri": "https://localhost:8080/"
        },
        "id": "6767zFirLxrD",
        "outputId": "c5351fc8-a703-48f1-bd8f-c008fdca0ce2"
      },
      "execution_count": 1,
      "outputs": [
        {
          "output_type": "stream",
          "name": "stdout",
          "text": [
            "Tulika\n"
          ]
        }
      ]
    },
    {
      "cell_type": "code",
      "source": [
        "# 2. Write a code to find the length of the string \"Hello World\".\n",
        "s = \"Hello World\"\n",
        "print(len(s))"
      ],
      "metadata": {
        "colab": {
          "base_uri": "https://localhost:8080/"
        },
        "id": "PYr6ezJcLx58",
        "outputId": "d064a0a8-b8d7-4a1e-e5ca-531b0068c1c6"
      },
      "execution_count": 2,
      "outputs": [
        {
          "output_type": "stream",
          "name": "stdout",
          "text": [
            "11\n"
          ]
        }
      ]
    },
    {
      "cell_type": "code",
      "source": [
        "# 3. Write a code to slice the first 3 characters from the string \"Python Programming\".\n",
        "s = \"Python Programming\"\n",
        "print(s[0:3])\n"
      ],
      "metadata": {
        "colab": {
          "base_uri": "https://localhost:8080/"
        },
        "id": "lbexdPqnLyO1",
        "outputId": "36cc569e-1632-4a63-d4ed-f85c1cef490d"
      },
      "execution_count": 3,
      "outputs": [
        {
          "output_type": "stream",
          "name": "stdout",
          "text": [
            "Pyt\n"
          ]
        }
      ]
    },
    {
      "cell_type": "code",
      "source": [
        "# 4. Write a code to convert the string \"hello\" to uppercase.\n",
        "s = \"hello\"\n",
        "print(s.upper())"
      ],
      "metadata": {
        "colab": {
          "base_uri": "https://localhost:8080/"
        },
        "id": "7ieMOLGjLyRL",
        "outputId": "d9225cd9-6e42-4e5a-ae7c-b61ea70e6310"
      },
      "execution_count": 7,
      "outputs": [
        {
          "output_type": "stream",
          "name": "stdout",
          "text": [
            "HELLO\n"
          ]
        }
      ]
    },
    {
      "cell_type": "code",
      "source": [
        "# 5. Write a code to replace the word \"apple\" with \"orange\" in the string \"I like apple\".\n",
        "s = \"I like apple\"\n",
        "print(s.replace(\"apple\",\"orange\"))"
      ],
      "metadata": {
        "colab": {
          "base_uri": "https://localhost:8080/"
        },
        "id": "QFrI9LW8LyUq",
        "outputId": "57779b02-a116-4dd2-df06-616217ba35ac"
      },
      "execution_count": 8,
      "outputs": [
        {
          "output_type": "stream",
          "name": "stdout",
          "text": [
            "I like orange\n"
          ]
        }
      ]
    },
    {
      "cell_type": "code",
      "source": [
        "# 6. Write a code to create a list with numbers 1 to 5 and print it.\n",
        "create_list = [1,2,3,4,5]\n",
        "print(create_list)"
      ],
      "metadata": {
        "colab": {
          "base_uri": "https://localhost:8080/"
        },
        "id": "3A0h2I-ELyl3",
        "outputId": "08d65384-c8a1-42db-b062-12de6e1bacc6"
      },
      "execution_count": 9,
      "outputs": [
        {
          "output_type": "stream",
          "name": "stdout",
          "text": [
            "[1, 2, 3, 4, 5]\n"
          ]
        }
      ]
    },
    {
      "cell_type": "code",
      "source": [
        "# 7. Write a code to append the number 10 to the list [1, 2, 3, 4].\n",
        "create_list = [1,2,3,4]\n",
        "create_list.append(10)\n",
        "print(create_list)"
      ],
      "metadata": {
        "colab": {
          "base_uri": "https://localhost:8080/"
        },
        "id": "EgFmgpFrLyob",
        "outputId": "b6139c83-de9d-49e4-eaa6-afb3e6f69765"
      },
      "execution_count": 15,
      "outputs": [
        {
          "output_type": "stream",
          "name": "stdout",
          "text": [
            "[1, 2, 3, 4, 10]\n"
          ]
        }
      ]
    },
    {
      "cell_type": "code",
      "source": [
        "# 8. Write a code to remove the number 3 from the list [1, 2, 3, 4, 5].\n",
        "A = [1,2,3,4,5]\n",
        "A.remove(3)\n",
        "print(A)"
      ],
      "metadata": {
        "colab": {
          "base_uri": "https://localhost:8080/"
        },
        "id": "uBTiPN-MLyrA",
        "outputId": "8ff278ea-d7d4-4075-ca89-832217c45d73"
      },
      "execution_count": 16,
      "outputs": [
        {
          "output_type": "stream",
          "name": "stdout",
          "text": [
            "[1, 2, 4, 5]\n"
          ]
        }
      ]
    },
    {
      "cell_type": "code",
      "source": [
        "# 9. Write a code to access the second element in the list ['a', 'b', 'c', 'd'].\n",
        "T = ['a', 'b', 'c', 'd']\n",
        "print(T[1])"
      ],
      "metadata": {
        "colab": {
          "base_uri": "https://localhost:8080/"
        },
        "id": "6gbPyiroM9nl",
        "outputId": "8c20e381-e78e-4eeb-9c63-9f3ae9384009"
      },
      "execution_count": 17,
      "outputs": [
        {
          "output_type": "stream",
          "name": "stdout",
          "text": [
            "b\n"
          ]
        }
      ]
    },
    {
      "cell_type": "code",
      "source": [
        "# 10. Write a code to reverse the list [10, 20, 30, 40, 50].\n",
        "B = [10, 20, 30, 40, 50]\n",
        "print(B[::-1])"
      ],
      "metadata": {
        "colab": {
          "base_uri": "https://localhost:8080/"
        },
        "id": "XR8D7OrNM9qy",
        "outputId": "89558994-b268-4908-cdf1-2b34d17d9f89"
      },
      "execution_count": 18,
      "outputs": [
        {
          "output_type": "stream",
          "name": "stdout",
          "text": [
            "[50, 40, 30, 20, 10]\n"
          ]
        }
      ]
    },
    {
      "cell_type": "code",
      "source": [
        "# 11. Write a code to create a tuple with the elements 100, 200, 300 and print it.\n",
        "C = (100,200,300)\n",
        "print(C)"
      ],
      "metadata": {
        "colab": {
          "base_uri": "https://localhost:8080/"
        },
        "id": "aZC34Re7M9t0",
        "outputId": "a6e05fff-fa02-4aab-c7b7-65da36d654e9"
      },
      "execution_count": 20,
      "outputs": [
        {
          "output_type": "stream",
          "name": "stdout",
          "text": [
            "(100, 200, 300)\n"
          ]
        }
      ]
    },
    {
      "cell_type": "code",
      "source": [
        "# 12. Write a code to access the second-to-last element of the tuple ('red', 'green', 'blue', 'yellow').\n",
        "D = ('red', 'green', 'blue', 'yellow')\n",
        "print(D[-2])"
      ],
      "metadata": {
        "colab": {
          "base_uri": "https://localhost:8080/"
        },
        "id": "k4tuW_5mM9wz",
        "outputId": "18d26ffa-8fa7-45c1-8276-ee3299dabebe"
      },
      "execution_count": 23,
      "outputs": [
        {
          "output_type": "stream",
          "name": "stdout",
          "text": [
            "blue\n"
          ]
        }
      ]
    },
    {
      "cell_type": "code",
      "source": [
        "# 13. Write a code to find the minimum number in the tuple (10, 20, 5, 15).\n",
        "E = (10, 20, 5, 15)\n",
        "print(min(E))\n"
      ],
      "metadata": {
        "colab": {
          "base_uri": "https://localhost:8080/"
        },
        "id": "WxTNOuw8M90M",
        "outputId": "78fb479e-d667-4525-fd54-9a4a3ebe38fe"
      },
      "execution_count": 24,
      "outputs": [
        {
          "output_type": "stream",
          "name": "stdout",
          "text": [
            "5\n"
          ]
        }
      ]
    },
    {
      "cell_type": "code",
      "source": [
        "# 14. Write a code to find the index of the element \"cat\" in the tuple ('dog', 'cat', 'rabbit').\n",
        "A = ('dog', 'cat', 'rabbit')\n",
        "B = A.index('cat')\n",
        "print(B)"
      ],
      "metadata": {
        "colab": {
          "base_uri": "https://localhost:8080/"
        },
        "id": "qV1dLshVM990",
        "outputId": "f22e8b90-436b-4b4b-b5e8-02248506649a"
      },
      "execution_count": 27,
      "outputs": [
        {
          "output_type": "stream",
          "name": "stdout",
          "text": [
            "1\n"
          ]
        }
      ]
    },
    {
      "cell_type": "code",
      "source": [
        "# 15. Write a code to create a tuple containing three different fruits and check if \"kiwi\" is in it.\n",
        "D = (\"apple\", \"banana\", \"kiwi\")\n",
        "print(\"kiwi\" in D)"
      ],
      "metadata": {
        "colab": {
          "base_uri": "https://localhost:8080/"
        },
        "id": "XeR_U2ztM-BS",
        "outputId": "512be8ef-1113-4181-af02-3e0f8fdff2dc"
      },
      "execution_count": 30,
      "outputs": [
        {
          "output_type": "stream",
          "name": "stdout",
          "text": [
            "True\n"
          ]
        }
      ]
    },
    {
      "cell_type": "code",
      "source": [
        "# 16. Write a code to create a set with the elements 'a', 'b', 'c' and print it.\n",
        "E = {'a','b','c'}\n",
        "print(E)"
      ],
      "metadata": {
        "colab": {
          "base_uri": "https://localhost:8080/"
        },
        "id": "KX7mFdx_Lytp",
        "outputId": "000ff489-7e6e-432c-89ed-180537090942"
      },
      "execution_count": 36,
      "outputs": [
        {
          "output_type": "stream",
          "name": "stdout",
          "text": [
            "{'b', 'c', 'a'}\n"
          ]
        }
      ]
    },
    {
      "cell_type": "code",
      "source": [
        "# 17. Write a code to clear all elements from the set {1, 2, 3, 4, 5}.\n",
        "s = {1, 2, 3, 4, 5}\n",
        "s.clear()\n",
        "print(s)"
      ],
      "metadata": {
        "colab": {
          "base_uri": "https://localhost:8080/"
        },
        "id": "e5ybm6E8Lyw-",
        "outputId": "9f227980-5356-48d6-89d2-1de894e57dc7"
      },
      "execution_count": 37,
      "outputs": [
        {
          "output_type": "stream",
          "name": "stdout",
          "text": [
            "set()\n"
          ]
        }
      ]
    },
    {
      "cell_type": "code",
      "source": [
        "# 18. Write a code to remove the element 4 from the set {1, 2, 3, 4}.\n",
        "F = {1, 2, 3, 4}\n",
        "F.remove(4)\n",
        "print(F)"
      ],
      "metadata": {
        "colab": {
          "base_uri": "https://localhost:8080/"
        },
        "id": "QDus8MHhNd3r",
        "outputId": "d4c49639-ac2f-4413-9a6d-fc2152730398"
      },
      "execution_count": 38,
      "outputs": [
        {
          "output_type": "stream",
          "name": "stdout",
          "text": [
            "{1, 2, 3}\n"
          ]
        }
      ]
    },
    {
      "cell_type": "code",
      "source": [
        "# 19. Write a code to find the union of two sets {1, 2, 3} and {3, 4, 5}.\n",
        "A = {1, 2, 3}\n",
        "B = {3, 4, 5}\n",
        "print(A.union(B))"
      ],
      "metadata": {
        "colab": {
          "base_uri": "https://localhost:8080/"
        },
        "id": "W2IF0ISmNeHA",
        "outputId": "a590483e-6f5a-409a-ce5a-c48bbcc717b4"
      },
      "execution_count": 65,
      "outputs": [
        {
          "output_type": "stream",
          "name": "stdout",
          "text": [
            "{1, 2, 3, 4, 5}\n"
          ]
        }
      ]
    },
    {
      "cell_type": "code",
      "source": [
        "# 20. Write a code to find the intersection of two sets {1, 2, 3} and {2, 3, 4}.\n",
        "C = {1, 2, 3}\n",
        "D = {2, 3, 4}\n",
        "print(C.intersection(D))"
      ],
      "metadata": {
        "colab": {
          "base_uri": "https://localhost:8080/"
        },
        "id": "Wk933bMKNeKA",
        "outputId": "f39344a7-7b1b-4e20-b8e9-0d50b08982cb"
      },
      "execution_count": 43,
      "outputs": [
        {
          "output_type": "stream",
          "name": "stdout",
          "text": [
            "{2, 3}\n"
          ]
        }
      ]
    },
    {
      "cell_type": "code",
      "source": [
        "# 21. Write a code to create a dictionary with the keys \"name\", \"age\", and \"city\", and print it.\n",
        "dic_A = {\"name\": \"Tulika Nandy\", \"age\" : \"31\", \"city\" : \"Kolkata\"}\n",
        "print(dic_A)"
      ],
      "metadata": {
        "colab": {
          "base_uri": "https://localhost:8080/"
        },
        "id": "GBb7quiFNeMr",
        "outputId": "bdc99bb0-c73d-4b24-a9de-223bc1e10b77"
      },
      "execution_count": 44,
      "outputs": [
        {
          "output_type": "stream",
          "name": "stdout",
          "text": [
            "{'name': 'Tulika Nandy', 'age': '31', 'city': 'Kolkata'}\n"
          ]
        }
      ]
    },
    {
      "cell_type": "code",
      "source": [
        "# 22. Write a code to add a new key-value pair \"country\": \"USA\" to the dictionary {'name': 'John', 'age': 25}.\n",
        "dic_B = {'name': 'John', 'age': 25}\n",
        "dic_B[\"country\"] = \"USA\"\n",
        "print(dic_B)"
      ],
      "metadata": {
        "colab": {
          "base_uri": "https://localhost:8080/"
        },
        "id": "XTxXTr7BNePk",
        "outputId": "5d8dd321-452b-4a92-a783-a0fd676f7246"
      },
      "execution_count": 45,
      "outputs": [
        {
          "output_type": "stream",
          "name": "stdout",
          "text": [
            "{'name': 'John', 'age': 25, 'country': 'USA'}\n"
          ]
        }
      ]
    },
    {
      "cell_type": "code",
      "source": [
        "# 23. Write a code to access the value associated with the key \"name\" in the dictionary {'name': 'Alice', 'age': 30}.\n",
        "dic_C = {'name': 'Alice', 'age': 30}\n",
        "print(dic_C[\"name\"])"
      ],
      "metadata": {
        "colab": {
          "base_uri": "https://localhost:8080/"
        },
        "id": "9DaPjgdpNeSP",
        "outputId": "508fb254-7b07-4e6b-9c57-ef6accd87246"
      },
      "execution_count": 46,
      "outputs": [
        {
          "output_type": "stream",
          "name": "stdout",
          "text": [
            "Alice\n"
          ]
        }
      ]
    },
    {
      "cell_type": "code",
      "source": [
        "# 24. Write a code to remove the key \"age\" from the dictionary {'name': 'Bob', 'age': 22, 'city': 'New York'}.\n",
        "dic_D = {'name': 'Bob', 'age': 22, 'city': 'New York'}\n",
        "dic_D.pop('age')\n",
        "print(dic_D)"
      ],
      "metadata": {
        "colab": {
          "base_uri": "https://localhost:8080/"
        },
        "id": "CwVLNUl9NeUz",
        "outputId": "f9da3f60-ae95-4350-cb78-d8e7512dd74e"
      },
      "execution_count": 47,
      "outputs": [
        {
          "output_type": "stream",
          "name": "stdout",
          "text": [
            "{'name': 'Bob', 'city': 'New York'}\n"
          ]
        }
      ]
    },
    {
      "cell_type": "code",
      "source": [
        "# 25. Write a code to check if the key \"city\" exists in the dictionary {'name': 'Alice', 'city': 'Paris'}.\n",
        "dic_E = {'name': 'Alice', 'city': 'Paris'}\n",
        "print(\"city\" in dic_E)"
      ],
      "metadata": {
        "colab": {
          "base_uri": "https://localhost:8080/"
        },
        "id": "6BJZj-cgNeX1",
        "outputId": "e6748748-2c9d-486f-c21f-d686aee18311"
      },
      "execution_count": 48,
      "outputs": [
        {
          "output_type": "stream",
          "name": "stdout",
          "text": [
            "True\n"
          ]
        }
      ]
    },
    {
      "cell_type": "code",
      "source": [
        "# 26. Write a code to create a list, a tuple, and a dictionary, and print them all.\n",
        "A = [\"apple\", \"Mango\",\"Banana\"]\n",
        "B = tuple(A)\n",
        "C = {\"Fruit1\":\"Apple\",\"Fruit2\":\"Mango\",\"Fruit3\":\"Banana\"}\n",
        "print(A)\n",
        "print(B)\n",
        "print(C)"
      ],
      "metadata": {
        "colab": {
          "base_uri": "https://localhost:8080/"
        },
        "id": "mVps4DrkNeas",
        "outputId": "00abeded-8e8f-4443-fef6-0dc5217c3365"
      },
      "execution_count": 54,
      "outputs": [
        {
          "output_type": "stream",
          "name": "stdout",
          "text": [
            "['apple', 'Mango', 'Banana']\n",
            "('apple', 'Mango', 'Banana')\n",
            "{'Fruit1': 'Apple', 'Fruit2': 'Mango', 'Fruit3': 'Banana'}\n"
          ]
        }
      ]
    },
    {
      "cell_type": "code",
      "source": [
        "# 27. Write a code to create a list of 5 random numbers between 1 and 100, sort it in ascending order, and print the result.(replaced)\n",
        "A = [25, 65, 29, 4, 98]\n",
        "print(sorted(A))"
      ],
      "metadata": {
        "colab": {
          "base_uri": "https://localhost:8080/"
        },
        "id": "mdPbNjFQfrs6",
        "outputId": "87da3f6f-f983-4793-e984-414970e28964"
      },
      "execution_count": 58,
      "outputs": [
        {
          "output_type": "stream",
          "name": "stdout",
          "text": [
            "[4, 25, 29, 65, 98]\n"
          ]
        }
      ]
    },
    {
      "cell_type": "code",
      "source": [
        "# 28. Write a code to create a list with strings and print the element at the third index.\n",
        "A = [\"apple\", \"Mango\",\"Banana\", \"Kiwi\", \"Orange\", \"Pear\"]\n",
        "print(A[3])"
      ],
      "metadata": {
        "colab": {
          "base_uri": "https://localhost:8080/"
        },
        "id": "kX57f8gjNegm",
        "outputId": "78b2da00-e2ad-4c8b-e23c-edd8bee52338"
      },
      "execution_count": 60,
      "outputs": [
        {
          "output_type": "stream",
          "name": "stdout",
          "text": [
            "Kiwi\n"
          ]
        }
      ]
    },
    {
      "cell_type": "code",
      "source": [
        "# 29. Write a code to combine two dictionaries into one and print the result.\n",
        "A = {\"Fruit1\":\"Apple\",\"Fruit2\":\"Mango\",\"Fruit3\":\"Banana\"}\n",
        "B = {\"Fruit4\":\"Kiwi\",\"Fruit5\":\"Orange\",\"Fruit6\":\"Pear\"}\n",
        "print(A | B)"
      ],
      "metadata": {
        "colab": {
          "base_uri": "https://localhost:8080/"
        },
        "id": "Z33SW-CHNeji",
        "outputId": "4252e839-ad2f-4241-c605-94d2ca8e1b8d"
      },
      "execution_count": 63,
      "outputs": [
        {
          "output_type": "stream",
          "name": "stdout",
          "text": [
            "{'Fruit1': 'Apple', 'Fruit2': 'Mango', 'Fruit3': 'Banana', 'Fruit4': 'Kiwi', 'Fruit5': 'Orange', 'Fruit6': 'Pear'}\n"
          ]
        }
      ]
    },
    {
      "cell_type": "code",
      "source": [
        "# 30. Write a code to convert a list of strings into a set.\n",
        "A = [\"apple\", \"Mango\",\"Banana\", \"Kiwi\", \"Orange\", \"Pear\"]\n",
        "print(set(A))"
      ],
      "metadata": {
        "colab": {
          "base_uri": "https://localhost:8080/"
        },
        "id": "YtfkwCW8NemR",
        "outputId": "11f08410-40f4-4407-a5de-3c97fa81cf4d"
      },
      "execution_count": 67,
      "outputs": [
        {
          "output_type": "stream",
          "name": "stdout",
          "text": [
            "{'apple', 'Mango', 'Kiwi', 'Pear', 'Orange', 'Banana'}\n"
          ]
        }
      ]
    },
    {
      "cell_type": "code",
      "source": [],
      "metadata": {
        "id": "eUlx_bvlj26o"
      },
      "execution_count": null,
      "outputs": []
    }
  ]
}